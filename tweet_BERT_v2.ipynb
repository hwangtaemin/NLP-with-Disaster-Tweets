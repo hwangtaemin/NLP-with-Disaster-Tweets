{
  "nbformat": 4,
  "nbformat_minor": 0,
  "metadata": {
    "colab": {
      "name": "tweet_BERT_v2.ipynb",
      "provenance": [],
      "authorship_tag": "ABX9TyMq0B+q2sDpMV0yvawdRoaQ",
      "include_colab_link": true
    },
    "kernelspec": {
      "name": "python3",
      "display_name": "Python 3"
    },
    "language_info": {
      "name": "python"
    },
    "accelerator": "GPU"
  },
  "cells": [
    {
      "cell_type": "markdown",
      "metadata": {
        "id": "view-in-github",
        "colab_type": "text"
      },
      "source": [
        "<a href=\"https://colab.research.google.com/github/hwangtaemin/NLP-with-Disaster-Tweets/blob/main/tweet_BERT_v2.ipynb\" target=\"_parent\"><img src=\"https://colab.research.google.com/assets/colab-badge.svg\" alt=\"Open In Colab\"/></a>"
      ]
    },
    {
      "cell_type": "code",
      "metadata": {
        "colab": {
          "base_uri": "https://localhost:8080/"
        },
        "id": "XwCw8TXWRdxv",
        "outputId": "200ab2f9-97d4-4550-d3df-4beb699bd371"
      },
      "source": [
        "!pip install tensorflow-hub\n",
        "\n",
        "import tensorflow as tf\n",
        "import tensorflow_hub as hub\n",
        "print(\"TF version: \", tf.__version__)\n",
        "print(\"Hub version: \", hub.__version__)"
      ],
      "execution_count": 8,
      "outputs": [
        {
          "output_type": "stream",
          "text": [
            "Requirement already satisfied: tensorflow-hub in /usr/local/lib/python3.7/dist-packages (0.12.0)\n",
            "Requirement already satisfied: protobuf>=3.8.0 in /usr/local/lib/python3.7/dist-packages (from tensorflow-hub) (3.12.4)\n",
            "Requirement already satisfied: numpy>=1.12.0 in /usr/local/lib/python3.7/dist-packages (from tensorflow-hub) (1.19.5)\n",
            "Requirement already satisfied: setuptools in /usr/local/lib/python3.7/dist-packages (from protobuf>=3.8.0->tensorflow-hub) (57.0.0)\n",
            "Requirement already satisfied: six>=1.9 in /usr/local/lib/python3.7/dist-packages (from protobuf>=3.8.0->tensorflow-hub) (1.15.0)\n",
            "TF version:  2.5.0\n",
            "Hub version:  0.12.0\n"
          ],
          "name": "stdout"
        }
      ]
    },
    {
      "cell_type": "code",
      "metadata": {
        "id": "AEKl3tw5RhuZ"
      },
      "source": [
        "import pandas as pd\n",
        "import numpy as np\n",
        "\n",
        "# For cleaning the text\n",
        "import spacy\n",
        "import nltk\n",
        "from nltk.tokenize import word_tokenize\n",
        "from nltk.corpus import stopwords\n",
        "import regex as re\n",
        "import string\n",
        "\n",
        "# For visualization\n",
        "import matplotlib.pyplot as plt\n",
        "import seaborn as sns\n",
        "pd.set_option('display.max_colwidth', None)\n",
        "\n",
        "# For building our model\n",
        "import tensorflow.keras\n",
        "import sklearn\n",
        "from tensorflow.keras import layers\n",
        "from tensorflow.keras import Model\n",
        "from tensorflow.keras.optimizers import SGD, Adam\n",
        "from tensorflow.keras.callbacks import ModelCheckpoint\n",
        "from tensorflow.keras.layers import Dense, Input, Dropout, GlobalAveragePooling1D"
      ],
      "execution_count": 9,
      "outputs": []
    },
    {
      "cell_type": "code",
      "metadata": {
        "colab": {
          "base_uri": "https://localhost:8080/"
        },
        "id": "OSkoUBdhRlDd",
        "outputId": "08b47f6f-151e-42bd-f814-ace41c495915"
      },
      "source": [
        "from google.colab import drive\n",
        "drive.mount('/content/drive')"
      ],
      "execution_count": 10,
      "outputs": [
        {
          "output_type": "stream",
          "text": [
            "Drive already mounted at /content/drive; to attempt to forcibly remount, call drive.mount(\"/content/drive\", force_remount=True).\n"
          ],
          "name": "stdout"
        }
      ]
    },
    {
      "cell_type": "code",
      "metadata": {
        "colab": {
          "base_uri": "https://localhost:8080/"
        },
        "id": "JhEMJy1LRsJr",
        "outputId": "b0605699-c94b-46da-ad89-af54671abee6"
      },
      "source": [
        "train = pd.read_csv('/content/drive/MyDrive/Kaggle/tweet/train.csv')\n",
        "test = pd.read_csv('/content/drive/MyDrive/Kaggle/tweet/test.csv')\n",
        "ids = test.id\n",
        "\n",
        "print('Total length of the dataset: ', len(train)+len(test))\n",
        "print('shape of training set: ', train.shape)\n",
        "print('shape of testing set: ', test.shape)"
      ],
      "execution_count": 11,
      "outputs": [
        {
          "output_type": "stream",
          "text": [
            "Total length of the dataset:  10876\n",
            "shape of training set:  (7613, 5)\n",
            "shape of testing set:  (3263, 4)\n"
          ],
          "name": "stdout"
        }
      ]
    },
    {
      "cell_type": "code",
      "metadata": {
        "colab": {
          "base_uri": "https://localhost:8080/",
          "height": 197
        },
        "id": "F6M6eKFyR1id",
        "outputId": "c2aaa4aa-cea0-47ae-d748-b3be59dbb8ef"
      },
      "source": [
        "# Detecting null values and records\n",
        "\n",
        "df_concat = pd.concat([train, test], axis = 0).reset_index(drop = True)\n",
        "nulls = pd.DataFrame(np.c_[df_concat.isnull().sum(), (df_concat.isnull().sum()/ len(df_concat))*100],\n",
        "                     columns = ['# of nulls', '% of nulls'],\n",
        "                     index = df_concat.columns)\n",
        "nulls"
      ],
      "execution_count": 12,
      "outputs": [
        {
          "output_type": "execute_result",
          "data": {
            "text/html": [
              "<div>\n",
              "<style scoped>\n",
              "    .dataframe tbody tr th:only-of-type {\n",
              "        vertical-align: middle;\n",
              "    }\n",
              "\n",
              "    .dataframe tbody tr th {\n",
              "        vertical-align: top;\n",
              "    }\n",
              "\n",
              "    .dataframe thead th {\n",
              "        text-align: right;\n",
              "    }\n",
              "</style>\n",
              "<table border=\"1\" class=\"dataframe\">\n",
              "  <thead>\n",
              "    <tr style=\"text-align: right;\">\n",
              "      <th></th>\n",
              "      <th># of nulls</th>\n",
              "      <th>% of nulls</th>\n",
              "    </tr>\n",
              "  </thead>\n",
              "  <tbody>\n",
              "    <tr>\n",
              "      <th>id</th>\n",
              "      <td>0.0</td>\n",
              "      <td>0.000000</td>\n",
              "    </tr>\n",
              "    <tr>\n",
              "      <th>keyword</th>\n",
              "      <td>87.0</td>\n",
              "      <td>0.799926</td>\n",
              "    </tr>\n",
              "    <tr>\n",
              "      <th>location</th>\n",
              "      <td>3638.0</td>\n",
              "      <td>33.449798</td>\n",
              "    </tr>\n",
              "    <tr>\n",
              "      <th>text</th>\n",
              "      <td>0.0</td>\n",
              "      <td>0.000000</td>\n",
              "    </tr>\n",
              "    <tr>\n",
              "      <th>target</th>\n",
              "      <td>3263.0</td>\n",
              "      <td>30.001839</td>\n",
              "    </tr>\n",
              "  </tbody>\n",
              "</table>\n",
              "</div>"
            ],
            "text/plain": [
              "          # of nulls  % of nulls\n",
              "id               0.0    0.000000\n",
              "keyword         87.0    0.799926\n",
              "location      3638.0   33.449798\n",
              "text             0.0    0.000000\n",
              "target        3263.0   30.001839"
            ]
          },
          "metadata": {
            "tags": []
          },
          "execution_count": 12
        }
      ]
    },
    {
      "cell_type": "code",
      "metadata": {
        "id": "ce1SRy1nR2pB"
      },
      "source": [
        "for df in [train, test, df_concat]:\n",
        "\n",
        "    df.keyword.fillna('no_keyword', inplace = True)\n",
        "    df.location.fillna('no_location', inplace = True)"
      ],
      "execution_count": 13,
      "outputs": []
    },
    {
      "cell_type": "code",
      "metadata": {
        "colab": {
          "base_uri": "https://localhost:8080/"
        },
        "id": "L6JYVfVER4z1",
        "outputId": "696d6f3b-2b9a-4da4-a081-52b052782976"
      },
      "source": [
        "df_concat.groupby(['location']).count().text.sort_values(ascending = False)"
      ],
      "execution_count": 14,
      "outputs": [
        {
          "output_type": "execute_result",
          "data": {
            "text/plain": [
              "location\n",
              "no_location             3638\n",
              "USA                      141\n",
              "New York                 109\n",
              "United States             65\n",
              "London                    58\n",
              "                        ... \n",
              "Rochelle, GA               1\n",
              "Robin Hood's County        1\n",
              "Roanoke VA                 1\n",
              "Roadside                   1\n",
              "                           1\n",
              "Name: text, Length: 4522, dtype: int64"
            ]
          },
          "metadata": {
            "tags": []
          },
          "execution_count": 14
        }
      ]
    },
    {
      "cell_type": "code",
      "metadata": {
        "colab": {
          "base_uri": "https://localhost:8080/",
          "height": 605
        },
        "id": "JpZameYHR62v",
        "outputId": "3da7d436-58ba-402d-e4a8-109864893c99"
      },
      "source": [
        "# top 30 locations in the dataset\n",
        "\n",
        "top_30 = df_concat.groupby(['location']).count().text.sort_values(ascending = False)[:30]\n",
        "\n",
        "# plot the top 30\n",
        "\n",
        "plt.figure(figsize = (6,10))\n",
        "sns.barplot(x = top_30, y = top_30.index);\n",
        "plt.xlabel('number of tweets');"
      ],
      "execution_count": 15,
      "outputs": [
        {
          "output_type": "display_data",
          "data": {
            "image/png": "[encoded data removed]",
            "text/plain": [
              "<Figure size 432x720 with 1 Axes>"
            ]
          },
          "metadata": {
            "tags": [],
            "needs_background": "light"
          }
        }
      ]
    },
    {
      "cell_type": "code",
      "metadata": {
        "colab": {
          "base_uri": "https://localhost:8080/",
          "height": 615
        },
        "id": "poFngA-yR8Zu",
        "outputId": "0d66766f-c252-406a-ca71-8b15a590ebed"
      },
      "source": [
        "# top 20 keywords in disastrous and non_disastrous tweets\n",
        "# We'll use training set for this \n",
        "\n",
        "count_dis_keywords = train[train.target == 1].groupby(['keyword']).count().sort_values(by = 'target', ascending = False)[:20]\n",
        "\n",
        "count_non_dis_keywords =  train[train.target == 0].groupby(['keyword']).count().sort_values(by = 'target', ascending = False)[:20]\n",
        "\n",
        "sns.set(style=\"white\")\n",
        "\n",
        "\n",
        "fig, ax_ = plt.subplots(1, 2, figsize = (25,10));\n",
        "\n",
        "# left side, the plot for keywords in disastrous tweets\n",
        "\n",
        "sns.barplot(x = count_dis_keywords.target, # count of each keyword\n",
        "            y = count_dis_keywords.index, # index of this df is our keywords\n",
        "            ax = ax_[0],\n",
        "            palette = 'Reds_r', label = 'dis')\n",
        "    \n",
        "\n",
        "\n",
        "# right side, the plot for non_disastrous tweets\n",
        "\n",
        "sns.barplot(x = count_non_dis_keywords.target, y = count_non_dis_keywords.index, \n",
        "            ax = ax_[1], palette = 'Greens_d', label = 'non_dis')\n",
        "\n",
        "\n",
        "for ax in [ax_[0], ax_[1]]:\n",
        "    \n",
        "    ax.set_title('Number of tweets per keyword', fontsize = 20) # setting title\n",
        "    \n",
        "    ax.set_ylabel('') \n",
        "    ax.set_xlabel('')\n",
        "\n",
        "    ax.set_yticklabels(labels =ax.get_yticklabels() ,\n",
        "                       fontsize = 15)"
      ],
      "execution_count": 16,
      "outputs": [
        {
          "output_type": "display_data",
          "data": {
            "image/png": "[encoded data removed]",
            "text/plain": [
              "<Figure size 1800x720 with 2 Axes>"
            ]
          },
          "metadata": {
            "tags": []
          }
        }
      ]
    },
    {
      "cell_type": "code",
      "metadata": {
        "id": "nKmOgoQ6SBlu"
      },
      "source": [
        "for df in [train, test, df_concat]:\n",
        "\n",
        "    df.drop(columns = ['location', 'keyword', 'id'], inplace = True)"
      ],
      "execution_count": 17,
      "outputs": []
    },
    {
      "cell_type": "code",
      "metadata": {
        "colab": {
          "base_uri": "https://localhost:8080/"
        },
        "id": "lK-lq7dQSEWZ",
        "outputId": "fcd0b347-fc9d-4044-eb36-227d6c60cb64"
      },
      "source": [
        "nlp = spacy.load(\"en\")\n",
        "sp = spacy.load('en_core_web_sm')\n",
        "\n",
        "nltk.download('stopwords')\n",
        "nltk.download('punkt')\n",
        "\n",
        "# spacy (362 words)\n",
        "spacy_st = nlp.Defaults.stop_words\n",
        "# nltk(179 words)\n",
        "nltk_st = stopwords.words('english')\n",
        "\n",
        "def clean(tweet, http = True, punc = True, lem = True, stop_w = True):\n",
        "    \n",
        "    if http is True:\n",
        "        tweet = re.sub(\"https?:\\/\\/t.co\\/[A-Za-z0-9]*\", '', tweet)\n",
        "\n",
        "    # stop words\n",
        "    # in here I changed the placement of lower for those of you who want to use\n",
        "    # Cased BERT later on.\n",
        "    if stop_w == 'nltk':\n",
        "        tweet = [word for word in word_tokenize(tweet) if not word.lower() in nltk_st]\n",
        "        tweet = ' '.join(tweet)\n",
        "\n",
        "    elif stop_w == 'spacy':\n",
        "        tweet = [word for word in word_tokenize(tweet) if not word.lower() in spacy_st]\n",
        "        tweet = ' '.join(tweet)\n",
        "\n",
        "    # lemmitizing\n",
        "    if lem == True:\n",
        "        lemmatized = [word.lemma_ for word in sp(tweet)]\n",
        "        tweet = ' '.join(lemmatized)\n",
        "\n",
        "    # punctuation removal\n",
        "    if punc is True:\n",
        "        tweet = tweet.translate(str.maketrans('', '', string.punctuation))\n",
        "        \n",
        "    # removing extra space\n",
        "    tweet = re.sub(\"\\s+\", ' ', tweet)\n",
        "    \n",
        "    return tweet"
      ],
      "execution_count": 18,
      "outputs": [
        {
          "output_type": "stream",
          "text": [
            "[nltk_data] Downloading package stopwords to /root/nltk_data...\n",
            "[nltk_data]   Unzipping corpora/stopwords.zip.\n",
            "[nltk_data] Downloading package punkt to /root/nltk_data...\n",
            "[nltk_data]   Unzipping tokenizers/punkt.zip.\n"
          ],
          "name": "stdout"
        }
      ]
    },
    {
      "cell_type": "code",
      "metadata": {
        "id": "nSI4tv0dSGG0"
      },
      "source": [
        "df_concat['cleaned_text'] = df_concat.text.apply(lambda x: clean(x, lem = False, stop_w = 'nltk', http = True, punc = True))"
      ],
      "execution_count": 19,
      "outputs": []
    },
    {
      "cell_type": "code",
      "metadata": {
        "id": "OeWGyCEJSL5V"
      },
      "source": [
        "cleaned_train = df_concat[:train.shape[0]]\n",
        "cleaned_test = df_concat[train.shape[0]:]"
      ],
      "execution_count": 20,
      "outputs": []
    },
    {
      "cell_type": "code",
      "metadata": {
        "id": "7NMEE3mTSOeo"
      },
      "source": [
        "# Bert Tokenizer for all of them\n",
        "\n",
        "!wget --quiet https://raw.githubusercontent.com/tensorflow/models/master/official/nlp/bert/tokenization.py"
      ],
      "execution_count": 22,
      "outputs": []
    },
    {
      "cell_type": "code",
      "metadata": {
        "colab": {
          "base_uri": "https://localhost:8080/"
        },
        "id": "mJjznGPjSTuf",
        "outputId": "924cf348-0dd3-4273-a51b-aa370cebc46d"
      },
      "source": [
        "!pip install sentencepiece\n",
        "import tokenization"
      ],
      "execution_count": 24,
      "outputs": [
        {
          "output_type": "stream",
          "text": [
            "Collecting sentencepiece\n",
            "\u001b[?25l  Downloading https://files.pythonhosted.org/packages/f5/99/e0808cb947ba10f575839c43e8fafc9cc44e4a7a2c8f79c60db48220a577/sentencepiece-0.1.95-cp37-cp37m-manylinux2014_x86_64.whl (1.2MB)\n",
            "\r\u001b[K     |▎                               | 10kB 23.8MB/s eta 0:00:01\r\u001b[K     |▌                               | 20kB 30.3MB/s eta 0:00:01\r\u001b[K     |▉                               | 30kB 35.1MB/s eta 0:00:01\r\u001b[K     |█                               | 40kB 29.3MB/s eta 0:00:01\r\u001b[K     |█▍                              | 51kB 30.8MB/s eta 0:00:01\r\u001b[K     |█▋                              | 61kB 32.5MB/s eta 0:00:01\r\u001b[K     |██                              | 71kB 26.1MB/s eta 0:00:01\r\u001b[K     |██▏                             | 81kB 27.5MB/s eta 0:00:01\r\u001b[K     |██▌                             | 92kB 29.2MB/s eta 0:00:01\r\u001b[K     |██▊                             | 102kB 28.9MB/s eta 0:00:01\r\u001b[K     |███                             | 112kB 28.9MB/s eta 0:00:01\r\u001b[K     |███▎                            | 122kB 28.9MB/s eta 0:00:01\r\u001b[K     |███▌                            | 133kB 28.9MB/s eta 0:00:01\r\u001b[K     |███▉                            | 143kB 28.9MB/s eta 0:00:01\r\u001b[K     |████                            | 153kB 28.9MB/s eta 0:00:01\r\u001b[K     |████▍                           | 163kB 28.9MB/s eta 0:00:01\r\u001b[K     |████▋                           | 174kB 28.9MB/s eta 0:00:01\r\u001b[K     |█████                           | 184kB 28.9MB/s eta 0:00:01\r\u001b[K     |█████▏                          | 194kB 28.9MB/s eta 0:00:01\r\u001b[K     |█████▌                          | 204kB 28.9MB/s eta 0:00:01\r\u001b[K     |█████▊                          | 215kB 28.9MB/s eta 0:00:01\r\u001b[K     |██████                          | 225kB 28.9MB/s eta 0:00:01\r\u001b[K     |██████▎                         | 235kB 28.9MB/s eta 0:00:01\r\u001b[K     |██████▌                         | 245kB 28.9MB/s eta 0:00:01\r\u001b[K     |██████▉                         | 256kB 28.9MB/s eta 0:00:01\r\u001b[K     |███████                         | 266kB 28.9MB/s eta 0:00:01\r\u001b[K     |███████▍                        | 276kB 28.9MB/s eta 0:00:01\r\u001b[K     |███████▋                        | 286kB 28.9MB/s eta 0:00:01\r\u001b[K     |████████                        | 296kB 28.9MB/s eta 0:00:01\r\u001b[K     |████████▏                       | 307kB 28.9MB/s eta 0:00:01\r\u001b[K     |████████▍                       | 317kB 28.9MB/s eta 0:00:01\r\u001b[K     |████████▊                       | 327kB 28.9MB/s eta 0:00:01\r\u001b[K     |█████████                       | 337kB 28.9MB/s eta 0:00:01\r\u001b[K     |█████████▎                      | 348kB 28.9MB/s eta 0:00:01\r\u001b[K     |█████████▌                      | 358kB 28.9MB/s eta 0:00:01\r\u001b[K     |█████████▉                      | 368kB 28.9MB/s eta 0:00:01\r\u001b[K     |██████████                      | 378kB 28.9MB/s eta 0:00:01\r\u001b[K     |██████████▍                     | 389kB 28.9MB/s eta 0:00:01\r\u001b[K     |██████████▋                     | 399kB 28.9MB/s eta 0:00:01\r\u001b[K     |███████████                     | 409kB 28.9MB/s eta 0:00:01\r\u001b[K     |███████████▏                    | 419kB 28.9MB/s eta 0:00:01\r\u001b[K     |███████████▍                    | 430kB 28.9MB/s eta 0:00:01\r\u001b[K     |███████████▊                    | 440kB 28.9MB/s eta 0:00:01\r\u001b[K     |████████████                    | 450kB 28.9MB/s eta 0:00:01\r\u001b[K     |████████████▎                   | 460kB 28.9MB/s eta 0:00:01\r\u001b[K     |████████████▌                   | 471kB 28.9MB/s eta 0:00:01\r\u001b[K     |████████████▉                   | 481kB 28.9MB/s eta 0:00:01\r\u001b[K     |█████████████                   | 491kB 28.9MB/s eta 0:00:01\r\u001b[K     |█████████████▍                  | 501kB 28.9MB/s eta 0:00:01\r\u001b[K     |█████████████▋                  | 512kB 28.9MB/s eta 0:00:01\r\u001b[K     |█████████████▉                  | 522kB 28.9MB/s eta 0:00:01\r\u001b[K     |██████████████▏                 | 532kB 28.9MB/s eta 0:00:01\r\u001b[K     |██████████████▍                 | 542kB 28.9MB/s eta 0:00:01\r\u001b[K     |██████████████▊                 | 552kB 28.9MB/s eta 0:00:01\r\u001b[K     |███████████████                 | 563kB 28.9MB/s eta 0:00:01\r\u001b[K     |███████████████▎                | 573kB 28.9MB/s eta 0:00:01\r\u001b[K     |███████████████▌                | 583kB 28.9MB/s eta 0:00:01\r\u001b[K     |███████████████▉                | 593kB 28.9MB/s eta 0:00:01\r\u001b[K     |████████████████                | 604kB 28.9MB/s eta 0:00:01\r\u001b[K     |████████████████▍               | 614kB 28.9MB/s eta 0:00:01\r\u001b[K     |████████████████▋               | 624kB 28.9MB/s eta 0:00:01\r\u001b[K     |████████████████▉               | 634kB 28.9MB/s eta 0:00:01\r\u001b[K     |█████████████████▏              | 645kB 28.9MB/s eta 0:00:01\r\u001b[K     |█████████████████▍              | 655kB 28.9MB/s eta 0:00:01\r\u001b[K     |█████████████████▊              | 665kB 28.9MB/s eta 0:00:01\r\u001b[K     |██████████████████              | 675kB 28.9MB/s eta 0:00:01\r\u001b[K     |██████████████████▎             | 686kB 28.9MB/s eta 0:00:01\r\u001b[K     |██████████████████▌             | 696kB 28.9MB/s eta 0:00:01\r\u001b[K     |██████████████████▉             | 706kB 28.9MB/s eta 0:00:01\r\u001b[K     |███████████████████             | 716kB 28.9MB/s eta 0:00:01\r\u001b[K     |███████████████████▎            | 727kB 28.9MB/s eta 0:00:01\r\u001b[K     |███████████████████▋            | 737kB 28.9MB/s eta 0:00:01\r\u001b[K     |███████████████████▉            | 747kB 28.9MB/s eta 0:00:01\r\u001b[K     |████████████████████▏           | 757kB 28.9MB/s eta 0:00:01\r\u001b[K     |████████████████████▍           | 768kB 28.9MB/s eta 0:00:01\r\u001b[K     |████████████████████▊           | 778kB 28.9MB/s eta 0:00:01\r\u001b[K     |█████████████████████           | 788kB 28.9MB/s eta 0:00:01\r\u001b[K     |█████████████████████▎          | 798kB 28.9MB/s eta 0:00:01\r\u001b[K     |█████████████████████▌          | 808kB 28.9MB/s eta 0:00:01\r\u001b[K     |█████████████████████▉          | 819kB 28.9MB/s eta 0:00:01\r\u001b[K     |██████████████████████          | 829kB 28.9MB/s eta 0:00:01\r\u001b[K     |██████████████████████▎         | 839kB 28.9MB/s eta 0:00:01\r\u001b[K     |██████████████████████▋         | 849kB 28.9MB/s eta 0:00:01\r\u001b[K     |██████████████████████▉         | 860kB 28.9MB/s eta 0:00:01\r\u001b[K     |███████████████████████▏        | 870kB 28.9MB/s eta 0:00:01\r\u001b[K     |███████████████████████▍        | 880kB 28.9MB/s eta 0:00:01\r\u001b[K     |███████████████████████▊        | 890kB 28.9MB/s eta 0:00:01\r\u001b[K     |████████████████████████        | 901kB 28.9MB/s eta 0:00:01\r\u001b[K     |████████████████████████▎       | 911kB 28.9MB/s eta 0:00:01\r\u001b[K     |████████████████████████▌       | 921kB 28.9MB/s eta 0:00:01\r\u001b[K     |████████████████████████▊       | 931kB 28.9MB/s eta 0:00:01\r\u001b[K     |█████████████████████████       | 942kB 28.9MB/s eta 0:00:01\r\u001b[K     |█████████████████████████▎      | 952kB 28.9MB/s eta 0:00:01\r\u001b[K     |█████████████████████████▋      | 962kB 28.9MB/s eta 0:00:01\r\u001b[K     |█████████████████████████▉      | 972kB 28.9MB/s eta 0:00:01\r\u001b[K     |██████████████████████████▏     | 983kB 28.9MB/s eta 0:00:01\r\u001b[K     |██████████████████████████▍     | 993kB 28.9MB/s eta 0:00:01\r\u001b[K     |██████████████████████████▊     | 1.0MB 28.9MB/s eta 0:00:01\r\u001b[K     |███████████████████████████     | 1.0MB 28.9MB/s eta 0:00:01\r\u001b[K     |███████████████████████████▎    | 1.0MB 28.9MB/s eta 0:00:01\r\u001b[K     |███████████████████████████▌    | 1.0MB 28.9MB/s eta 0:00:01\r\u001b[K     |███████████████████████████▊    | 1.0MB 28.9MB/s eta 0:00:01\r\u001b[K     |████████████████████████████    | 1.1MB 28.9MB/s eta 0:00:01\r\u001b[K     |████████████████████████████▎   | 1.1MB 28.9MB/s eta 0:00:01\r\u001b[K     |████████████████████████████▋   | 1.1MB 28.9MB/s eta 0:00:01\r\u001b[K     |████████████████████████████▉   | 1.1MB 28.9MB/s eta 0:00:01\r\u001b[K     |█████████████████████████████▏  | 1.1MB 28.9MB/s eta 0:00:01\r\u001b[K     |█████████████████████████████▍  | 1.1MB 28.9MB/s eta 0:00:01\r\u001b[K     |█████████████████████████████▊  | 1.1MB 28.9MB/s eta 0:00:01\r\u001b[K     |██████████████████████████████  | 1.1MB 28.9MB/s eta 0:00:01\r\u001b[K     |██████████████████████████████▏ | 1.1MB 28.9MB/s eta 0:00:01\r\u001b[K     |██████████████████████████████▌ | 1.1MB 28.9MB/s eta 0:00:01\r\u001b[K     |██████████████████████████████▊ | 1.2MB 28.9MB/s eta 0:00:01\r\u001b[K     |███████████████████████████████ | 1.2MB 28.9MB/s eta 0:00:01\r\u001b[K     |███████████████████████████████▎| 1.2MB 28.9MB/s eta 0:00:01\r\u001b[K     |███████████████████████████████▋| 1.2MB 28.9MB/s eta 0:00:01\r\u001b[K     |███████████████████████████████▉| 1.2MB 28.9MB/s eta 0:00:01\r\u001b[K     |████████████████████████████████| 1.2MB 28.9MB/s \n",
            "\u001b[?25hInstalling collected packages: sentencepiece\n",
            "Successfully installed sentencepiece-0.1.95\n"
          ],
          "name": "stdout"
        }
      ]
    },
    {
      "cell_type": "code",
      "metadata": {
        "id": "8GCGNAkESuxD"
      },
      "source": [
        "FullTokenizer = tokenization.FullTokenizer"
      ],
      "execution_count": 25,
      "outputs": []
    },
    {
      "cell_type": "code",
      "metadata": {
        "colab": {
          "base_uri": "https://localhost:8080/"
        },
        "id": "Q-sdenFcS26I",
        "outputId": "a18ce179-8e4c-403e-ec61-cb811a01ea13"
      },
      "source": [
        "ans = input(\"Which Bert should I use? \\n a. Base uncased \\n b. Large uncased \\n c. Basic cased \\n d. Large cased \\n\")\n",
        "\n",
        "if ans is 'a':\n",
        "    BERT_MODEL_HUB = 'https://tfhub.dev/tensorflow/bert_en_uncased_L-12_H-768_A-12/2'\n",
        "    disc = 'Base_uncased'\n",
        "elif ans is 'b':\n",
        "    BERT_MODEL_HUB = 'https://tfhub.dev/tensorflow/bert_en_uncased_L-24_H-1024_A-16/2' \n",
        "    disc = 'Large_uncased'\n",
        "elif ans is 'c':\n",
        "    BERT_MODEL_HUB = 'https://tfhub.dev/tensorflow/bert_en_cased_L-12_H-768_A-12/2'\n",
        "    disc = 'Base_cased'\n",
        "elif ans is 'd':\n",
        "    BERT_MODEL_HUB = 'https://tfhub.dev/tensorflow/bert_en_cased_L-24_H-1024_A-16/2'\n",
        "    disc = 'Large_cased'\n",
        "\n",
        "bert_layer = hub.KerasLayer(BERT_MODEL_HUB, trainable=True)\n",
        "print('Bert layer is ready to use!')\n",
        "\n",
        "\n",
        "\n",
        "if ans =='a' or ans =='b':\n",
        "    to_lower_case = bert_layer.resolved_object.do_lower_case.numpy()\n",
        "    vocabulary_file = bert_layer.resolved_object.vocab_file.asset_path.numpy()\n",
        "\n",
        "    tokenizer = FullTokenizer(vocabulary_file, to_lower_case)\n",
        "    \n",
        "\n",
        "    \n",
        "elif ans =='c' or ans =='d':\n",
        "    \n",
        "    vocabulary_file = bert_layer.resolved_object.vocab_file.asset_path.numpy()\n",
        "    \n",
        "    tokenizer = FullTokenizer(vocabulary_file, do_lower_case=False)\n",
        "\n",
        "\n",
        "print('Bert Tokenizer is ready!!!')"
      ],
      "execution_count": 26,
      "outputs": [
        {
          "output_type": "stream",
          "text": [
            "Which Bert should I use? \n",
            " a. Base uncased \n",
            " b. Large uncased \n",
            " c. Basic cased \n",
            " d. Large cased \n",
            "a\n"
          ],
          "name": "stdout"
        },
        {
          "output_type": "stream",
          "text": [
            "INFO:absl:Using /tmp/tfhub_modules to cache modules.\n",
            "INFO:absl:Downloading TF-Hub Module 'https://tfhub.dev/tensorflow/bert_en_uncased_L-12_H-768_A-12/2'.\n",
            "INFO:absl:Downloaded https://tfhub.dev/tensorflow/bert_en_uncased_L-12_H-768_A-12/2, Total size: 421.50MB\n",
            "INFO:absl:Downloaded TF-Hub Module 'https://tfhub.dev/tensorflow/bert_en_uncased_L-12_H-768_A-12/2'.\n"
          ],
          "name": "stderr"
        },
        {
          "output_type": "stream",
          "text": [
            "Bert layer is ready to use!\n",
            "Bert Tokenizer is ready!!!\n"
          ],
          "name": "stdout"
        }
      ]
    },
    {
      "cell_type": "code",
      "metadata": {
        "colab": {
          "base_uri": "https://localhost:8080/"
        },
        "id": "itpz3vmHS62v",
        "outputId": "24a471a1-d7fd-4e54-fb4e-e15f5f931036"
      },
      "source": [
        "sentence = 'Terrorist will crush the Tower'\n",
        "print('Tokenized version of {} is : \\n {} '.format(sentence, tokenizer.tokenize(sentence)))"
      ],
      "execution_count": 27,
      "outputs": [
        {
          "output_type": "stream",
          "text": [
            "Tokenized version of Terrorist will crush the Tower is : \n",
            " ['terrorist', 'will', 'crush', 'the', 'tower'] \n"
          ],
          "name": "stdout"
        }
      ]
    },
    {
      "cell_type": "code",
      "metadata": {
        "colab": {
          "base_uri": "https://localhost:8080/",
          "height": 107
        },
        "id": "aKO7cTf3TBSf",
        "outputId": "698adab4-f99c-4f52-ca42-621d7f8e0e75"
      },
      "source": [
        "def tokenize_tweets(text_):\n",
        "    return tokenizer.convert_tokens_to_ids(['[CLS]'] + tokenizer.tokenize(text_) + ['[SEP]'])\n",
        "\n",
        "df_concat['tokenized_tweets'] = df_concat.cleaned_text.apply(lambda x: tokenize_tweets(x))\n",
        "\n",
        "cleaned_train.head(2)"
      ],
      "execution_count": 28,
      "outputs": [
        {
          "output_type": "execute_result",
          "data": {
            "text/html": [
              "<div>\n",
              "<style scoped>\n",
              "    .dataframe tbody tr th:only-of-type {\n",
              "        vertical-align: middle;\n",
              "    }\n",
              "\n",
              "    .dataframe tbody tr th {\n",
              "        vertical-align: top;\n",
              "    }\n",
              "\n",
              "    .dataframe thead th {\n",
              "        text-align: right;\n",
              "    }\n",
              "</style>\n",
              "<table border=\"1\" class=\"dataframe\">\n",
              "  <thead>\n",
              "    <tr style=\"text-align: right;\">\n",
              "      <th></th>\n",
              "      <th>text</th>\n",
              "      <th>target</th>\n",
              "      <th>cleaned_text</th>\n",
              "    </tr>\n",
              "  </thead>\n",
              "  <tbody>\n",
              "    <tr>\n",
              "      <th>0</th>\n",
              "      <td>Our Deeds are the Reason of this #earthquake May ALLAH Forgive us all</td>\n",
              "      <td>1.0</td>\n",
              "      <td>Deeds Reason earthquake May ALLAH Forgive us</td>\n",
              "    </tr>\n",
              "    <tr>\n",
              "      <th>1</th>\n",
              "      <td>Forest fire near La Ronge Sask. Canada</td>\n",
              "      <td>1.0</td>\n",
              "      <td>Forest fire near La Ronge Sask Canada</td>\n",
              "    </tr>\n",
              "  </tbody>\n",
              "</table>\n",
              "</div>"
            ],
            "text/plain": [
              "                                                                    text  ...                                  cleaned_text\n",
              "0  Our Deeds are the Reason of this #earthquake May ALLAH Forgive us all  ...  Deeds Reason earthquake May ALLAH Forgive us\n",
              "1                                 Forest fire near La Ronge Sask. Canada  ...         Forest fire near La Ronge Sask Canada\n",
              "\n",
              "[2 rows x 3 columns]"
            ]
          },
          "metadata": {
            "tags": []
          },
          "execution_count": 28
        }
      ]
    },
    {
      "cell_type": "code",
      "metadata": {
        "colab": {
          "base_uri": "https://localhost:8080/",
          "height": 160
        },
        "id": "N7CQrxVDTC-i",
        "outputId": "6f6c0d0e-a2b8-458e-f2bd-6d608c8099d1"
      },
      "source": [
        "# what is the maximum length of our tokenized text?\n",
        "\n",
        "max_len = len(max(df_concat.tokenized_tweets, key = len))\n",
        "\n",
        "\n",
        "print('The maximum length of each sequence besed on tokenized tweets is:', max_len)\n",
        "\n",
        "df_concat['padded_tweets'] = df_concat.tokenized_tweets.apply(lambda x: x + [0] * (max_len - len(x)))\n",
        "df_concat.head(2)"
      ],
      "execution_count": 29,
      "outputs": [
        {
          "output_type": "stream",
          "text": [
            "The maximum length of each sequence besed on tokenized tweets is: 53\n"
          ],
          "name": "stdout"
        },
        {
          "output_type": "execute_result",
          "data": {
            "text/html": [
              "<div>\n",
              "<style scoped>\n",
              "    .dataframe tbody tr th:only-of-type {\n",
              "        vertical-align: middle;\n",
              "    }\n",
              "\n",
              "    .dataframe tbody tr th {\n",
              "        vertical-align: top;\n",
              "    }\n",
              "\n",
              "    .dataframe thead th {\n",
              "        text-align: right;\n",
              "    }\n",
              "</style>\n",
              "<table border=\"1\" class=\"dataframe\">\n",
              "  <thead>\n",
              "    <tr style=\"text-align: right;\">\n",
              "      <th></th>\n",
              "      <th>text</th>\n",
              "      <th>target</th>\n",
              "      <th>cleaned_text</th>\n",
              "      <th>tokenized_tweets</th>\n",
              "      <th>padded_tweets</th>\n",
              "    </tr>\n",
              "  </thead>\n",
              "  <tbody>\n",
              "    <tr>\n",
              "      <th>0</th>\n",
              "      <td>Our Deeds are the Reason of this #earthquake May ALLAH Forgive us all</td>\n",
              "      <td>1.0</td>\n",
              "      <td>Deeds Reason earthquake May ALLAH Forgive us</td>\n",
              "      <td>[101, 15616, 3114, 8372, 2089, 16455, 9641, 2149, 102]</td>\n",
              "      <td>[101, 15616, 3114, 8372, 2089, 16455, 9641, 2149, 102, 0, 0, 0, 0, 0, 0, 0, 0, 0, 0, 0, 0, 0, 0, 0, 0, 0, 0, 0, 0, 0, 0, 0, 0, 0, 0, 0, 0, 0, 0, 0, 0, 0, 0, 0, 0, 0, 0, 0, 0, 0, 0, 0, 0]</td>\n",
              "    </tr>\n",
              "    <tr>\n",
              "      <th>1</th>\n",
              "      <td>Forest fire near La Ronge Sask. Canada</td>\n",
              "      <td>1.0</td>\n",
              "      <td>Forest fire near La Ronge Sask Canada</td>\n",
              "      <td>[101, 3224, 2543, 2379, 2474, 6902, 3351, 21871, 2243, 2710, 102]</td>\n",
              "      <td>[101, 3224, 2543, 2379, 2474, 6902, 3351, 21871, 2243, 2710, 102, 0, 0, 0, 0, 0, 0, 0, 0, 0, 0, 0, 0, 0, 0, 0, 0, 0, 0, 0, 0, 0, 0, 0, 0, 0, 0, 0, 0, 0, 0, 0, 0, 0, 0, 0, 0, 0, 0, 0, 0, 0, 0]</td>\n",
              "    </tr>\n",
              "  </tbody>\n",
              "</table>\n",
              "</div>"
            ],
            "text/plain": [
              "                                                                    text  ...                                                                                                                                                                                    padded_tweets\n",
              "0  Our Deeds are the Reason of this #earthquake May ALLAH Forgive us all  ...       [101, 15616, 3114, 8372, 2089, 16455, 9641, 2149, 102, 0, 0, 0, 0, 0, 0, 0, 0, 0, 0, 0, 0, 0, 0, 0, 0, 0, 0, 0, 0, 0, 0, 0, 0, 0, 0, 0, 0, 0, 0, 0, 0, 0, 0, 0, 0, 0, 0, 0, 0, 0, 0, 0, 0]\n",
              "1                                 Forest fire near La Ronge Sask. Canada  ...  [101, 3224, 2543, 2379, 2474, 6902, 3351, 21871, 2243, 2710, 102, 0, 0, 0, 0, 0, 0, 0, 0, 0, 0, 0, 0, 0, 0, 0, 0, 0, 0, 0, 0, 0, 0, 0, 0, 0, 0, 0, 0, 0, 0, 0, 0, 0, 0, 0, 0, 0, 0, 0, 0, 0, 0]\n",
              "\n",
              "[2 rows x 5 columns]"
            ]
          },
          "metadata": {
            "tags": []
          },
          "execution_count": 29
        }
      ]
    },
    {
      "cell_type": "code",
      "metadata": {
        "id": "9sPsZ2bJTG0n"
      },
      "source": [
        "class TweetClassifier:\n",
        "    \n",
        "    def __init__(self, tokenizer, bert_layer, max_len, lr = 0.0001,\n",
        "                 epochs = 15, batch_size = 32,\n",
        "                 activation = 'sigmoid', optimizer = 'SGD',\n",
        "                 beta_1=0.9, beta_2=0.999, epsilon=1e-07,\n",
        "                 metrics = 'accuracy', loss = 'binary_crossentropy'):\n",
        "        \n",
        "        self.lr = lr\n",
        "        self.epochs = epochs\n",
        "        self.max_len = max_len\n",
        "        self.batch_size = batch_size\n",
        "        self.tokenizer = tokenizer\n",
        "        self.bert_layer = bert_layer\n",
        "        \n",
        "\n",
        "        self.activation = activation\n",
        "        self.optimizer = optimizer\n",
        "        \n",
        "        self.beta_1 = beta_1\n",
        "        self.beta_2 = beta_2\n",
        "        self.epsilon =epsilon\n",
        "        \n",
        "        self.metrics = metrics\n",
        "        self.loss = loss\n",
        "\n",
        "        \n",
        "    def encode(self, texts):\n",
        "        \n",
        "        all_tokens = []\n",
        "        masks = []\n",
        "        segments = []\n",
        "        \n",
        "        for text in texts:\n",
        "            \n",
        "            tokenized = self.tokenizer.convert_tokens_to_ids(['[CLS]'] + self.tokenizer.tokenize(text) + ['[SEP]'])\n",
        "            \n",
        "            len_zeros = self.max_len - len(tokenized)\n",
        "            \n",
        "            \n",
        "            padded = tokenized + [0] * len_zeros\n",
        "            mask = [1] * len(tokenized) + [0] * len_zeros\n",
        "            segment = [0] * self.max_len\n",
        "            \n",
        "            all_tokens.append(padded)\n",
        "            masks.append(mask)\n",
        "            segments.append(segment)\n",
        "        \n",
        "        return np.array(all_tokens), np.array(masks), np.array(segments)\n",
        "\n",
        "\n",
        "    def make_model(self):\n",
        "        \n",
        "        # Shaping the inputs to our model\n",
        "        \n",
        "        input_ids = Input(shape = (self.max_len, ), dtype = tf.int32, name = 'input_ids')\n",
        "        \n",
        "        input_mask = Input(shape = (self.max_len, ), dtype = tf.int32, name = 'input_mask')\n",
        "        \n",
        "        segment_ids = Input(shape = (self.max_len, ), dtype = tf.int32,  name = 'segment_ids')\n",
        "\n",
        "        \n",
        "        pooled_output, sequence_output = bert_layer([input_ids, input_mask, segment_ids] )\n",
        "\n",
        "\n",
        "\n",
        "        clf_output = sequence_output[:, 0, :]\n",
        "        \n",
        "        out = tf.keras.layers.Dense(1, activation = self.activation)(clf_output)\n",
        "        \n",
        "        \n",
        "        model = Model(inputs = [input_ids, input_mask, segment_ids], outputs = out)\n",
        "        \n",
        "        # define the optimizer\n",
        "\n",
        "        if self.optimizer is 'SGD':\n",
        "            optimizer = SGD(learning_rate = self.lr)\n",
        "\n",
        "        elif self.optimizer is 'Adam': \n",
        "            optimizer = Adam(learning_rate = self.lr, beta_1=self.beta_1, beta_2=self.beta_2, epsilon=self.epsilon)\n",
        "\n",
        "        model.compile(loss = self.loss, optimizer = self.optimizer, metrics = [self.metrics])\n",
        "        \n",
        "        print('Model is compiled with {} optimizer'.format(self.optimizer))\n",
        "        \n",
        "        return model\n",
        "    \n",
        "    \n",
        "    \n",
        "    \n",
        "    def train(self, x):    \n",
        "        \n",
        "        checkpoint = ModelCheckpoint('model.h5', monitor='val_loss',\n",
        "                                     save_best_only=True)\n",
        "            \n",
        "        \n",
        "        model = self.make_model()\n",
        "        \n",
        "        X = self.encode(x['cleaned_text'])\n",
        "        Y = x['target']\n",
        "        \n",
        "        model.fit(X, Y, shuffle = True, validation_split = 0.2, \n",
        "                  batch_size=self.batch_size, epochs = self.epochs,\n",
        "                  callbacks=[checkpoint])\n",
        "                \n",
        "        print('Model is fit!')\n",
        "        \n",
        "            \n",
        "    def predict(self, x):\n",
        "        \n",
        "        X_test_encoded = self.encode(x['cleaned_text'])\n",
        "        best_model = tf.keras.models.load_model('model.h5',custom_objects={'KerasLayer':hub.KerasLayer})\n",
        "        y_pred = best_model.predict(X_test_encoded)\n",
        "        \n",
        "        \n",
        "        return y_pred"
      ],
      "execution_count": 30,
      "outputs": []
    },
    {
      "cell_type": "code",
      "metadata": {
        "id": "cm-TF2XeTK4K"
      },
      "source": [
        "classifier = TweetClassifier(tokenizer = tokenizer, bert_layer = bert_layer,\n",
        "                              max_len = max_len, lr = 0.0001,\n",
        "                              epochs = 3,  activation = 'sigmoid',\n",
        "                              batch_size = 32,optimizer = 'SGD',\n",
        "                              beta_1=0.9, beta_2=0.999, epsilon=1e-07)"
      ],
      "execution_count": 31,
      "outputs": []
    },
    {
      "cell_type": "code",
      "metadata": {
        "colab": {
          "base_uri": "https://localhost:8080/"
        },
        "id": "M-HG0Vu8TPGR",
        "outputId": "8ce2fd4e-66f4-43a9-e0f7-eb363dee84af"
      },
      "source": [
        "classifier.train(cleaned_train)"
      ],
      "execution_count": 32,
      "outputs": [
        {
          "output_type": "stream",
          "text": [
            "Model is compiled with SGD optimizer\n",
            "Epoch 1/3\n",
            "191/191 [==============================] - 82s 360ms/step - loss: 0.5343 - accuracy: 0.7432 - val_loss: 0.4178 - val_accuracy: 0.8135\n",
            "Epoch 2/3\n",
            "191/191 [==============================] - 72s 377ms/step - loss: 0.4194 - accuracy: 0.8184 - val_loss: 0.5331 - val_accuracy: 0.7511\n",
            "Epoch 3/3\n",
            "191/191 [==============================] - 71s 374ms/step - loss: 0.3863 - accuracy: 0.8386 - val_loss: 0.4428 - val_accuracy: 0.8096\n",
            "Model is fit!\n"
          ],
          "name": "stdout"
        }
      ]
    },
    {
      "cell_type": "code",
      "metadata": {
        "id": "nDXriERxTQ3-"
      },
      "source": [
        "y_pred = np.round(classifier.predict(cleaned_test))"
      ],
      "execution_count": 33,
      "outputs": []
    },
    {
      "cell_type": "code",
      "metadata": {
        "colab": {
          "base_uri": "https://localhost:8080/",
          "height": 197
        },
        "id": "wIVMAicoUW1E",
        "outputId": "86f294a9-015d-4471-d5d2-0b0bba21268a"
      },
      "source": [
        "# Submission\n",
        "sample_sub = pd.read_csv('/content/drive/MyDrive/Kaggle/tweet/sample_submission.csv')\n",
        "ids = sample_sub.id\n",
        "final_submission = pd.DataFrame(np.c_[ids, y_pred.astype('int')], columns = ['id', 'target'])\n",
        "final_submission.to_csv('final_submission.csv', index = False)\n",
        "final_submission.head()"
      ],
      "execution_count": 34,
      "outputs": [
        {
          "output_type": "execute_result",
          "data": {
            "text/html": [
              "<div>\n",
              "<style scoped>\n",
              "    .dataframe tbody tr th:only-of-type {\n",
              "        vertical-align: middle;\n",
              "    }\n",
              "\n",
              "    .dataframe tbody tr th {\n",
              "        vertical-align: top;\n",
              "    }\n",
              "\n",
              "    .dataframe thead th {\n",
              "        text-align: right;\n",
              "    }\n",
              "</style>\n",
              "<table border=\"1\" class=\"dataframe\">\n",
              "  <thead>\n",
              "    <tr style=\"text-align: right;\">\n",
              "      <th></th>\n",
              "      <th>id</th>\n",
              "      <th>target</th>\n",
              "    </tr>\n",
              "  </thead>\n",
              "  <tbody>\n",
              "    <tr>\n",
              "      <th>0</th>\n",
              "      <td>0</td>\n",
              "      <td>1</td>\n",
              "    </tr>\n",
              "    <tr>\n",
              "      <th>1</th>\n",
              "      <td>2</td>\n",
              "      <td>1</td>\n",
              "    </tr>\n",
              "    <tr>\n",
              "      <th>2</th>\n",
              "      <td>3</td>\n",
              "      <td>1</td>\n",
              "    </tr>\n",
              "    <tr>\n",
              "      <th>3</th>\n",
              "      <td>9</td>\n",
              "      <td>1</td>\n",
              "    </tr>\n",
              "    <tr>\n",
              "      <th>4</th>\n",
              "      <td>11</td>\n",
              "      <td>1</td>\n",
              "    </tr>\n",
              "  </tbody>\n",
              "</table>\n",
              "</div>"
            ],
            "text/plain": [
              "   id  target\n",
              "0   0       1\n",
              "1   2       1\n",
              "2   3       1\n",
              "3   9       1\n",
              "4  11       1"
            ]
          },
          "metadata": {
            "tags": []
          },
          "execution_count": 34
        }
      ]
    },
    {
      "cell_type": "code",
      "metadata": {
        "id": "P7QkJZ0hUqMr"
      },
      "source": [
        ""
      ],
      "execution_count": null,
      "outputs": []
    }
  ]
}